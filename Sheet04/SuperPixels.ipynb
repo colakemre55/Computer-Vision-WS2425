{
 "cells": [
  {
   "cell_type": "code",
   "execution_count": 1,
   "metadata": {},
   "outputs": [
    {
     "data": {
      "image/png": "[encoded data removed]",
      "text/plain": [
       "<Figure size 640x480 with 1 Axes>"
      ]
     },
     "metadata": {},
     "output_type": "display_data"
    }
   ],
   "source": [
    "import cv2\n",
    "import matplotlib.pyplot as plt\n",
    "\n",
    "\n",
    "superPixel = cv2.imread(\"./superpixels.png\")\n",
    "\n",
    "plt.imshow(superPixel)\n",
    "plt.title(\"Super Pixel Image\")\n",
    "plt.axis(\"off\")\n",
    "plt.show()"
   ]
  },
  {
   "cell_type": "markdown",
   "metadata": {},
   "source": [
    "# a) Calculating weights through graph"
   ]
  },
  {
   "cell_type": "code",
   "execution_count": 2,
   "metadata": {},
   "outputs": [
    {
     "name": "stderr",
     "output_type": "stream",
     "text": [
      "C:\\Users\\colak\\AppData\\Local\\Temp\\ipykernel_20104\\1854665481.py:10: RuntimeWarning: overflow encountered in scalar subtract\n",
      "  return np.sqrt((Rc1 - Rc2)**2 + (Gc1 - Gc2)**2 + (Bc1 - Bc2)**2)\n"
     ]
    }
   ],
   "source": [
    "import numpy as np\n",
    "import cv2\n",
    "\n",
    "def spatial_distance(p1, p2):\n",
    "    return np.sqrt((p1[0] - p2[0])**2 + (p1[1] - p2[1])**2)\n",
    "\n",
    "def color_distance(c1, c2):\n",
    "    Rc1, Gc1, Bc1 = c1\n",
    "    Rc2, Gc2, Bc2 = c2\n",
    "    return np.sqrt((Rc1 - Rc2)**2 + (Gc1 - Gc2)**2 + (Bc1 - Bc2)**2)\n",
    "\n",
    "superPixel = cv2.imread(\"./superpixels.png\")  # Ensure path is correct\n",
    "x, y, _ = superPixel.shape  # For RGB, the shape has 3 dimensions\n",
    "\n",
    "# Parameters\n",
    "sigma_color = np.std(superPixel.flatten())  #Flatten to compute overall std dev\n",
    "sigma_color = 10\n",
    "sigma_space = max(x, y) / 10 \n",
    "sigma_space = 10\n",
    "radius = 10  #Example radius\n",
    "\n",
    "# Initialize weights\n",
    "weights = np.zeros((x * y, x * y))  # i * j times distance\n",
    "\n",
    "#Computing weights\n",
    "for i in range(x):\n",
    "    for j in range(y):\n",
    "        idx1 = i * y + j  # Map 2D indices to 1D index\n",
    "        for di in range(-radius, radius + 1):\n",
    "            for dj in range(-radius, radius + 1):\n",
    "                ni, nj = i + di, j + dj\n",
    "                if 0 <= ni < x and 0 <= nj < y:  # Ensure valid indices\n",
    "                    idx2 = ni * y + nj\n",
    "                    # Compute distances\n",
    "                    distSpace = spatial_distance((i, j), (ni, nj))\n",
    "                    color1 = superPixel[i, j]\n",
    "                    color2 = superPixel[ni, nj]\n",
    "                    distColor = color_distance(color1, color2)\n",
    "                    # Compute weight\n",
    "                    weights[idx1, idx2] = np.exp(-distColor**2 / (2 * sigma_color**2)) * \\\n",
    "                                          np.exp(-distSpace**2 / (2 * sigma_space**2))\n"
   ]
  },
  {
   "cell_type": "markdown",
   "metadata": {},
   "source": [
    "# b) Computing the normalized cut"
   ]
  },
  {
   "cell_type": "code",
   "execution_count": 3,
   "metadata": {},
   "outputs": [
    {
     "name": "stdout",
     "output_type": "stream",
     "text": [
      "First 5 eigenvalues: [-6.11233704e-17  7.73171023e-19  4.86709229e-11  8.11703409e-08\n",
      "  3.00757189e-06]\n"
     ]
    }
   ],
   "source": [
    "import numpy as np\n",
    "from scipy.sparse import csr_matrix\n",
    "from scipy.sparse.linalg import eigsh\n",
    "\n",
    "\n",
    "weights = (weights + weights.T) / 2  # Ensure symmetry (still sparse)\n",
    "\n",
    "#Degree matrix D\n",
    "degree_values = np.array(weights.sum(axis=1)).flatten()\n",
    "\n",
    "epsilon = 1e-10\n",
    "degree_values[degree_values == 0] = epsilon  # Replace zeros with a small value\n",
    "\n",
    "D_inv_sqrt = np.diag(1.0 / np.sqrt(degree_values))  # D^{-1/2} (dense diagonal matrix)\n",
    "\n",
    "D_inv_sqrt_sparse = csr_matrix(D_inv_sqrt)  # Convert D^{-1/2} to sparse\n",
    "L_sym_sparse = csr_matrix(np.eye(weights.shape[0])) - D_inv_sqrt_sparse @ weights @ D_inv_sqrt_sparse\n",
    "\n",
    "#first k eigenvectors\n",
    "k = 5  # Number of clusters or segments\n",
    "eigenvalues, eigenvectors = eigsh(L_sym_sparse, k=k, which='SM') \n",
    "\n",
    "print(f\"First {k} eigenvalues: {eigenvalues}\")\n"
   ]
  },
  {
   "cell_type": "markdown",
   "metadata": {},
   "source": [
    "# c) K means for segments"
   ]
  },
  {
   "cell_type": "code",
   "execution_count": 4,
   "metadata": {},
   "outputs": [
    {
     "name": "stderr",
     "output_type": "stream",
     "text": [
      "C:\\Users\\colak\\AppData\\Roaming\\Python\\Python39\\site-packages\\joblib\\externals\\loky\\backend\\context.py:136: UserWarning: Could not find the number of physical cores for the following reason:\n",
      "found 0 physical cores < 1\n",
      "Returning the number of logical cores instead. You can silence this warning by setting LOKY_MAX_CPU_COUNT to the number of cores you want to use.\n",
      "  warnings.warn(\n",
      "  File \"C:\\Users\\colak\\AppData\\Roaming\\Python\\Python39\\site-packages\\joblib\\externals\\loky\\backend\\context.py\", line 282, in _count_physical_cores\n",
      "    raise ValueError(f\"found {cpu_count_physical} physical cores < 1\")\n"
     ]
    },
    {
     "data": {
      "image/png": "[encoded data removed]",
      "text/plain": [
       "<Figure size 640x480 with 1 Axes>"
      ]
     },
     "metadata": {},
     "output_type": "display_data"
    }
   ],
   "source": [
    "from sklearn.cluster import KMeans\n",
    "import numpy as np\n",
    "import matplotlib.pyplot as plt\n",
    "\n",
    "#Normalize eigenvector rows\n",
    "U_normalized = eigenvectors / np.linalg.norm(eigenvectors, axis=1, keepdims=True)\n",
    "\n",
    "#k-means clustering\n",
    "k = 5  # Number of clusters\n",
    "kmeans = KMeans(n_clusters=k, random_state=0, n_init=10)  # Set n_init for stability\n",
    "labels = kmeans.fit_predict(U_normalized)\n",
    "\n",
    "segmentation = labels.reshape((x, y))\n",
    "\n",
    "# Visualize the segmentation\n",
    "plt.imshow(segmentation, cmap=\"jet\")\n",
    "plt.title(\"Image Segmentation with Normalized Cuts\")\n",
    "plt.axis(\"off\")\n",
    "plt.show()\n"
   ]
  },
  {
   "cell_type": "markdown",
   "metadata": {},
   "source": [
    "# d) Segmentation"
   ]
  },
  {
   "cell_type": "code",
   "execution_count": 6,
   "metadata": {},
   "outputs": [
    {
     "name": "stdout",
     "output_type": "stream",
     "text": [
      "Testing parameters: sigma_color=10, sigma_space=5, radius=5\n"
     ]
    },
    {
     "name": "stderr",
     "output_type": "stream",
     "text": [
      "C:\\Users\\colak\\AppData\\Local\\Temp\\ipykernel_20104\\1854665481.py:10: RuntimeWarning: overflow encountered in scalar subtract\n",
      "  return np.sqrt((Rc1 - Rc2)**2 + (Gc1 - Gc2)**2 + (Bc1 - Bc2)**2)\n",
      "C:\\Users\\colak\\AppData\\Roaming\\Python\\Python39\\site-packages\\sklearn\\cluster\\_kmeans.py:1416: FutureWarning: The default value of `n_init` will change from 10 to 'auto' in 1.4. Set the value of `n_init` explicitly to suppress the warning\n",
      "  super()._check_params_vs_input(X, default_n_init=10)\n"
     ]
    },
    {
     "name": "stdout",
     "output_type": "stream",
     "text": [
      "Testing parameters: sigma_color=10, sigma_space=5, radius=10\n"
     ]
    },
    {
     "name": "stderr",
     "output_type": "stream",
     "text": [
      "C:\\Users\\colak\\AppData\\Local\\Temp\\ipykernel_20104\\1854665481.py:10: RuntimeWarning: overflow encountered in scalar subtract\n",
      "  return np.sqrt((Rc1 - Rc2)**2 + (Gc1 - Gc2)**2 + (Bc1 - Bc2)**2)\n",
      "C:\\Users\\colak\\AppData\\Roaming\\Python\\Python39\\site-packages\\sklearn\\cluster\\_kmeans.py:1416: FutureWarning: The default value of `n_init` will change from 10 to 'auto' in 1.4. Set the value of `n_init` explicitly to suppress the warning\n",
      "  super()._check_params_vs_input(X, default_n_init=10)\n"
     ]
    },
    {
     "name": "stdout",
     "output_type": "stream",
     "text": [
      "Testing parameters: sigma_color=10, sigma_space=10, radius=5\n"
     ]
    },
    {
     "name": "stderr",
     "output_type": "stream",
     "text": [
      "C:\\Users\\colak\\AppData\\Local\\Temp\\ipykernel_20104\\1854665481.py:10: RuntimeWarning: overflow encountered in scalar subtract\n",
      "  return np.sqrt((Rc1 - Rc2)**2 + (Gc1 - Gc2)**2 + (Bc1 - Bc2)**2)\n",
      "C:\\Users\\colak\\AppData\\Roaming\\Python\\Python39\\site-packages\\sklearn\\cluster\\_kmeans.py:1416: FutureWarning: The default value of `n_init` will change from 10 to 'auto' in 1.4. Set the value of `n_init` explicitly to suppress the warning\n",
      "  super()._check_params_vs_input(X, default_n_init=10)\n"
     ]
    },
    {
     "name": "stdout",
     "output_type": "stream",
     "text": [
      "Testing parameters: sigma_color=10, sigma_space=10, radius=10\n"
     ]
    },
    {
     "name": "stderr",
     "output_type": "stream",
     "text": [
      "C:\\Users\\colak\\AppData\\Local\\Temp\\ipykernel_20104\\1854665481.py:10: RuntimeWarning: overflow encountered in scalar subtract\n",
      "  return np.sqrt((Rc1 - Rc2)**2 + (Gc1 - Gc2)**2 + (Bc1 - Bc2)**2)\n",
      "C:\\Users\\colak\\AppData\\Roaming\\Python\\Python39\\site-packages\\sklearn\\cluster\\_kmeans.py:1416: FutureWarning: The default value of `n_init` will change from 10 to 'auto' in 1.4. Set the value of `n_init` explicitly to suppress the warning\n",
      "  super()._check_params_vs_input(X, default_n_init=10)\n"
     ]
    },
    {
     "name": "stdout",
     "output_type": "stream",
     "text": [
      "Testing parameters: sigma_color=10, sigma_space=15, radius=5\n"
     ]
    },
    {
     "name": "stderr",
     "output_type": "stream",
     "text": [
      "C:\\Users\\colak\\AppData\\Local\\Temp\\ipykernel_20104\\1854665481.py:10: RuntimeWarning: overflow encountered in scalar subtract\n",
      "  return np.sqrt((Rc1 - Rc2)**2 + (Gc1 - Gc2)**2 + (Bc1 - Bc2)**2)\n",
      "C:\\Users\\colak\\AppData\\Roaming\\Python\\Python39\\site-packages\\sklearn\\cluster\\_kmeans.py:1416: FutureWarning: The default value of `n_init` will change from 10 to 'auto' in 1.4. Set the value of `n_init` explicitly to suppress the warning\n",
      "  super()._check_params_vs_input(X, default_n_init=10)\n"
     ]
    },
    {
     "name": "stdout",
     "output_type": "stream",
     "text": [
      "Testing parameters: sigma_color=10, sigma_space=15, radius=10\n"
     ]
    },
    {
     "name": "stderr",
     "output_type": "stream",
     "text": [
      "C:\\Users\\colak\\AppData\\Local\\Temp\\ipykernel_20104\\1854665481.py:10: RuntimeWarning: overflow encountered in scalar subtract\n",
      "  return np.sqrt((Rc1 - Rc2)**2 + (Gc1 - Gc2)**2 + (Bc1 - Bc2)**2)\n",
      "C:\\Users\\colak\\AppData\\Roaming\\Python\\Python39\\site-packages\\sklearn\\cluster\\_kmeans.py:1416: FutureWarning: The default value of `n_init` will change from 10 to 'auto' in 1.4. Set the value of `n_init` explicitly to suppress the warning\n",
      "  super()._check_params_vs_input(X, default_n_init=10)\n"
     ]
    },
    {
     "name": "stdout",
     "output_type": "stream",
     "text": [
      "Testing parameters: sigma_color=20, sigma_space=5, radius=5\n"
     ]
    },
    {
     "name": "stderr",
     "output_type": "stream",
     "text": [
      "C:\\Users\\colak\\AppData\\Local\\Temp\\ipykernel_20104\\1854665481.py:10: RuntimeWarning: overflow encountered in scalar subtract\n",
      "  return np.sqrt((Rc1 - Rc2)**2 + (Gc1 - Gc2)**2 + (Bc1 - Bc2)**2)\n",
      "C:\\Users\\colak\\AppData\\Roaming\\Python\\Python39\\site-packages\\sklearn\\cluster\\_kmeans.py:1416: FutureWarning: The default value of `n_init` will change from 10 to 'auto' in 1.4. Set the value of `n_init` explicitly to suppress the warning\n",
      "  super()._check_params_vs_input(X, default_n_init=10)\n"
     ]
    },
    {
     "name": "stdout",
     "output_type": "stream",
     "text": [
      "Testing parameters: sigma_color=20, sigma_space=5, radius=10\n"
     ]
    },
    {
     "name": "stderr",
     "output_type": "stream",
     "text": [
      "C:\\Users\\colak\\AppData\\Local\\Temp\\ipykernel_20104\\1854665481.py:10: RuntimeWarning: overflow encountered in scalar subtract\n",
      "  return np.sqrt((Rc1 - Rc2)**2 + (Gc1 - Gc2)**2 + (Bc1 - Bc2)**2)\n",
      "C:\\Users\\colak\\AppData\\Roaming\\Python\\Python39\\site-packages\\sklearn\\cluster\\_kmeans.py:1416: FutureWarning: The default value of `n_init` will change from 10 to 'auto' in 1.4. Set the value of `n_init` explicitly to suppress the warning\n",
      "  super()._check_params_vs_input(X, default_n_init=10)\n"
     ]
    },
    {
     "name": "stdout",
     "output_type": "stream",
     "text": [
      "Testing parameters: sigma_color=20, sigma_space=10, radius=5\n"
     ]
    },
    {
     "name": "stderr",
     "output_type": "stream",
     "text": [
      "C:\\Users\\colak\\AppData\\Local\\Temp\\ipykernel_20104\\1854665481.py:10: RuntimeWarning: overflow encountered in scalar subtract\n",
      "  return np.sqrt((Rc1 - Rc2)**2 + (Gc1 - Gc2)**2 + (Bc1 - Bc2)**2)\n",
      "C:\\Users\\colak\\AppData\\Roaming\\Python\\Python39\\site-packages\\sklearn\\cluster\\_kmeans.py:1416: FutureWarning: The default value of `n_init` will change from 10 to 'auto' in 1.4. Set the value of `n_init` explicitly to suppress the warning\n",
      "  super()._check_params_vs_input(X, default_n_init=10)\n"
     ]
    },
    {
     "name": "stdout",
     "output_type": "stream",
     "text": [
      "Testing parameters: sigma_color=20, sigma_space=10, radius=10\n"
     ]
    },
    {
     "name": "stderr",
     "output_type": "stream",
     "text": [
      "C:\\Users\\colak\\AppData\\Local\\Temp\\ipykernel_20104\\1854665481.py:10: RuntimeWarning: overflow encountered in scalar subtract\n",
      "  return np.sqrt((Rc1 - Rc2)**2 + (Gc1 - Gc2)**2 + (Bc1 - Bc2)**2)\n",
      "C:\\Users\\colak\\AppData\\Roaming\\Python\\Python39\\site-packages\\sklearn\\cluster\\_kmeans.py:1416: FutureWarning: The default value of `n_init` will change from 10 to 'auto' in 1.4. Set the value of `n_init` explicitly to suppress the warning\n",
      "  super()._check_params_vs_input(X, default_n_init=10)\n"
     ]
    },
    {
     "name": "stdout",
     "output_type": "stream",
     "text": [
      "Testing parameters: sigma_color=20, sigma_space=15, radius=5\n"
     ]
    },
    {
     "name": "stderr",
     "output_type": "stream",
     "text": [
      "C:\\Users\\colak\\AppData\\Local\\Temp\\ipykernel_20104\\1854665481.py:10: RuntimeWarning: overflow encountered in scalar subtract\n",
      "  return np.sqrt((Rc1 - Rc2)**2 + (Gc1 - Gc2)**2 + (Bc1 - Bc2)**2)\n",
      "C:\\Users\\colak\\AppData\\Roaming\\Python\\Python39\\site-packages\\sklearn\\cluster\\_kmeans.py:1416: FutureWarning: The default value of `n_init` will change from 10 to 'auto' in 1.4. Set the value of `n_init` explicitly to suppress the warning\n",
      "  super()._check_params_vs_input(X, default_n_init=10)\n"
     ]
    },
    {
     "name": "stdout",
     "output_type": "stream",
     "text": [
      "Testing parameters: sigma_color=20, sigma_space=15, radius=10\n"
     ]
    },
    {
     "name": "stderr",
     "output_type": "stream",
     "text": [
      "C:\\Users\\colak\\AppData\\Local\\Temp\\ipykernel_20104\\1854665481.py:10: RuntimeWarning: overflow encountered in scalar subtract\n",
      "  return np.sqrt((Rc1 - Rc2)**2 + (Gc1 - Gc2)**2 + (Bc1 - Bc2)**2)\n",
      "C:\\Users\\colak\\AppData\\Roaming\\Python\\Python39\\site-packages\\sklearn\\cluster\\_kmeans.py:1416: FutureWarning: The default value of `n_init` will change from 10 to 'auto' in 1.4. Set the value of `n_init` explicitly to suppress the warning\n",
      "  super()._check_params_vs_input(X, default_n_init=10)\n"
     ]
    },
    {
     "name": "stdout",
     "output_type": "stream",
     "text": [
      "Testing parameters: sigma_color=30, sigma_space=5, radius=5\n"
     ]
    },
    {
     "name": "stderr",
     "output_type": "stream",
     "text": [
      "C:\\Users\\colak\\AppData\\Local\\Temp\\ipykernel_20104\\1854665481.py:10: RuntimeWarning: overflow encountered in scalar subtract\n",
      "  return np.sqrt((Rc1 - Rc2)**2 + (Gc1 - Gc2)**2 + (Bc1 - Bc2)**2)\n",
      "C:\\Users\\colak\\AppData\\Roaming\\Python\\Python39\\site-packages\\sklearn\\cluster\\_kmeans.py:1416: FutureWarning: The default value of `n_init` will change from 10 to 'auto' in 1.4. Set the value of `n_init` explicitly to suppress the warning\n",
      "  super()._check_params_vs_input(X, default_n_init=10)\n"
     ]
    },
    {
     "name": "stdout",
     "output_type": "stream",
     "text": [
      "Testing parameters: sigma_color=30, sigma_space=5, radius=10\n"
     ]
    },
    {
     "name": "stderr",
     "output_type": "stream",
     "text": [
      "C:\\Users\\colak\\AppData\\Local\\Temp\\ipykernel_20104\\1854665481.py:10: RuntimeWarning: overflow encountered in scalar subtract\n",
      "  return np.sqrt((Rc1 - Rc2)**2 + (Gc1 - Gc2)**2 + (Bc1 - Bc2)**2)\n",
      "C:\\Users\\colak\\AppData\\Roaming\\Python\\Python39\\site-packages\\sklearn\\cluster\\_kmeans.py:1416: FutureWarning: The default value of `n_init` will change from 10 to 'auto' in 1.4. Set the value of `n_init` explicitly to suppress the warning\n",
      "  super()._check_params_vs_input(X, default_n_init=10)\n"
     ]
    },
    {
     "name": "stdout",
     "output_type": "stream",
     "text": [
      "Testing parameters: sigma_color=30, sigma_space=10, radius=5\n"
     ]
    },
    {
     "name": "stderr",
     "output_type": "stream",
     "text": [
      "C:\\Users\\colak\\AppData\\Local\\Temp\\ipykernel_20104\\1854665481.py:10: RuntimeWarning: overflow encountered in scalar subtract\n",
      "  return np.sqrt((Rc1 - Rc2)**2 + (Gc1 - Gc2)**2 + (Bc1 - Bc2)**2)\n",
      "C:\\Users\\colak\\AppData\\Roaming\\Python\\Python39\\site-packages\\sklearn\\cluster\\_kmeans.py:1416: FutureWarning: The default value of `n_init` will change from 10 to 'auto' in 1.4. Set the value of `n_init` explicitly to suppress the warning\n",
      "  super()._check_params_vs_input(X, default_n_init=10)\n"
     ]
    },
    {
     "name": "stdout",
     "output_type": "stream",
     "text": [
      "Testing parameters: sigma_color=30, sigma_space=10, radius=10\n"
     ]
    },
    {
     "name": "stderr",
     "output_type": "stream",
     "text": [
      "C:\\Users\\colak\\AppData\\Local\\Temp\\ipykernel_20104\\1854665481.py:10: RuntimeWarning: overflow encountered in scalar subtract\n",
      "  return np.sqrt((Rc1 - Rc2)**2 + (Gc1 - Gc2)**2 + (Bc1 - Bc2)**2)\n",
      "C:\\Users\\colak\\AppData\\Roaming\\Python\\Python39\\site-packages\\sklearn\\cluster\\_kmeans.py:1416: FutureWarning: The default value of `n_init` will change from 10 to 'auto' in 1.4. Set the value of `n_init` explicitly to suppress the warning\n",
      "  super()._check_params_vs_input(X, default_n_init=10)\n"
     ]
    },
    {
     "name": "stdout",
     "output_type": "stream",
     "text": [
      "Testing parameters: sigma_color=30, sigma_space=15, radius=5\n"
     ]
    },
    {
     "name": "stderr",
     "output_type": "stream",
     "text": [
      "C:\\Users\\colak\\AppData\\Local\\Temp\\ipykernel_20104\\1854665481.py:10: RuntimeWarning: overflow encountered in scalar subtract\n",
      "  return np.sqrt((Rc1 - Rc2)**2 + (Gc1 - Gc2)**2 + (Bc1 - Bc2)**2)\n",
      "C:\\Users\\colak\\AppData\\Roaming\\Python\\Python39\\site-packages\\sklearn\\cluster\\_kmeans.py:1416: FutureWarning: The default value of `n_init` will change from 10 to 'auto' in 1.4. Set the value of `n_init` explicitly to suppress the warning\n",
      "  super()._check_params_vs_input(X, default_n_init=10)\n"
     ]
    },
    {
     "name": "stdout",
     "output_type": "stream",
     "text": [
      "Testing parameters: sigma_color=30, sigma_space=15, radius=10\n"
     ]
    },
    {
     "name": "stderr",
     "output_type": "stream",
     "text": [
      "C:\\Users\\colak\\AppData\\Local\\Temp\\ipykernel_20104\\1854665481.py:10: RuntimeWarning: overflow encountered in scalar subtract\n",
      "  return np.sqrt((Rc1 - Rc2)**2 + (Gc1 - Gc2)**2 + (Bc1 - Bc2)**2)\n"
     ]
    },
    {
     "name": "stdout",
     "output_type": "stream",
     "text": [
      "Best parameters: sigma_color=10, sigma_space=15, radius=10\n"
     ]
    },
    {
     "name": "stderr",
     "output_type": "stream",
     "text": [
      "C:\\Users\\colak\\AppData\\Roaming\\Python\\Python39\\site-packages\\sklearn\\cluster\\_kmeans.py:1416: FutureWarning: The default value of `n_init` will change from 10 to 'auto' in 1.4. Set the value of `n_init` explicitly to suppress the warning\n",
      "  super()._check_params_vs_input(X, default_n_init=10)\n"
     ]
    }
   ],
   "source": [
    "import numpy as np\n",
    "from scipy.sparse import lil_matrix, csr_matrix\n",
    "from scipy.sparse.linalg import eigsh\n",
    "from sklearn.cluster import KMeans\n",
    "import matplotlib.pyplot as plt\n",
    "import pandas as pd\n",
    "import seaborn as sns\n",
    "\n",
    "# Define parameter ranges\n",
    "sigma_color_values = [10, 20, 30]\n",
    "sigma_space_values = [5, 10, 15]\n",
    "radius_values = [5, 10]\n",
    "\n",
    "# Initialize parameters to find best ones\n",
    "best_segmentation = None\n",
    "best_params = None\n",
    "best_score = float('-inf')\n",
    "results = []\n",
    "\n",
    "def evaluate_segmentation(segmentation, ground_truth=None):\n",
    "    if ground_truth is not None:\n",
    "        # Example: Compute Adjusted Rand Index (requires sklearn.metrics.adjusted_rand_score)\n",
    "        from sklearn.metrics import adjusted_rand_score\n",
    "        return adjusted_rand_score(ground_truth.flatten(), segmentation.flatten())\n",
    "    return -np.std(segmentation)  # Placeholder: Negative std deviation (higher is better)\n",
    "\n",
    "for sigma_color in sigma_color_values:\n",
    "    for sigma_space in sigma_space_values:\n",
    "        for radius in radius_values:\n",
    "            print(f\"Testing parameters: sigma_color={sigma_color}, sigma_space={sigma_space}, radius={radius}\")\n",
    "            \n",
    "            #Compute weights\n",
    "            weights = lil_matrix((x * y, x * y))\n",
    "            for i in range(x):\n",
    "                for j in range(y):\n",
    "                    idx1 = i * y + j\n",
    "                    for di in range(-radius, radius + 1):\n",
    "                        for dj in range(-radius, radius + 1):\n",
    "                            ni, nj = i + di, j + dj\n",
    "                            if 0 <= ni < x and 0 <= nj < y:\n",
    "                                idx2 = ni * y + nj\n",
    "                                distSpace = spatial_distance((i, j), (ni, nj))\n",
    "                                if distSpace <= radius:  #limit distance\n",
    "                                    color1 = superPixel[i, j]\n",
    "                                    color2 = superPixel[ni, nj]\n",
    "                                    distColor = color_distance(color1, color2)\n",
    "                                    weight = np.exp(-distColor**2 / (2 * sigma_color**2)) * \\\n",
    "                                             np.exp(-distSpace**2 / (2 * sigma_space**2))\n",
    "                                    weights[idx1, idx2] = weight\n",
    "            \n",
    "            weights = weights.tocsr()  # Convert to CSR for fast matrix operations\n",
    "\n",
    "            #compute Laplacian\n",
    "            degree_values = np.array(weights.sum(axis=1)).flatten()\n",
    "            epsilon = 1e-10\n",
    "            degree_values[degree_values == 0] = epsilon  # Avoid division by zero\n",
    "            D_inv_sqrt = csr_matrix(np.diag(1.0 / np.sqrt(degree_values)))\n",
    "            L_sym_sparse = csr_matrix(np.eye(weights.shape[0])) - D_inv_sqrt @ weights @ D_inv_sqrt\n",
    "            \n",
    "            #compute eigenvectors\n",
    "            eigenvalues, eigenvectors = eigsh(L_sym_sparse, k=5, which='SM')\n",
    "            U_normalized = eigenvectors / np.linalg.norm(eigenvectors, axis=1, keepdims=True)\n",
    "            \n",
    "            #k-means clustering\n",
    "            kmeans = KMeans(n_clusters=5, random_state=0)\n",
    "            labels = kmeans.fit_predict(U_normalized)\n",
    "            segmentation = labels.reshape((x, y))\n",
    "            \n",
    "            # Evaluate segmentation\n",
    "            score = evaluate_segmentation(segmentation)\n",
    "            results.append((sigma_color, sigma_space, radius, score))\n",
    "            \n",
    "            if score > best_score:  #higher score is better\n",
    "                best_score = score\n",
    "                best_segmentation = segmentation\n",
    "                best_params = (sigma_color, sigma_space, radius)\n",
    "\n",
    "# Output the best parameters and segmentation\n",
    "print(f\"Best parameters: sigma_color={best_params[0]}, sigma_space={best_params[1]}, radius={best_params[2]}\")\n",
    "\n",
    "\n"
   ]
  },
  {
   "cell_type": "code",
   "execution_count": 10,
   "metadata": {},
   "outputs": [
    {
     "data": {
      "image/png": "[encoded data removed]",
      "text/plain": [
       "<Figure size 640x480 with 1 Axes>"
      ]
     },
     "metadata": {},
     "output_type": "display_data"
    }
   ],
   "source": [
    "# Visualize the best segmentation\n",
    "plt.imshow(best_segmentation, cmap=\"jet\")\n",
    "plt.title(f\"Best Segmentation (sigma_color={best_params[0]}, sigma_space={best_params[1]}, radius={best_params[2]})\")\n",
    "plt.axis(\"off\")\n",
    "plt.show()\n",
    "\n",
    "# Analyze results\n",
    "df = pd.DataFrame(results, columns=[\"sigma_color\", \"sigma_space\", \"radius\", \"score\"])\n",
    "\n"
   ]
  }
 ],
 "metadata": {
  "kernelspec": {
   "display_name": "compv",
   "language": "python",
   "name": "python3"
  },
  "language_info": {
   "codemirror_mode": {
    "name": "ipython",
    "version": 3
   },
   "file_extension": ".py",
   "mimetype": "text/x-python",
   "name": "python",
   "nbconvert_exporter": "python",
   "pygments_lexer": "ipython3",
   "version": "3.9.20"
  }
 },
 "nbformat": 4,
 "nbformat_minor": 2
}
